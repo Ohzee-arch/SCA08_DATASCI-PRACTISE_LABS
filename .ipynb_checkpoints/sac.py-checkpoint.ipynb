{
 "cells": [
  {
   "cell_type": "code",
   "execution_count": 1,
   "metadata": {},
   "outputs": [],
   "source": [
    "import pandas as pd\n",
    "import numpy as np"
   ]
  },
  {
   "cell_type": "code",
   "execution_count": 2,
   "metadata": {},
   "outputs": [],
   "source": [
    "#Creatng a dataframe of years and random different years\n",
    "index = pd.date_range('15/2/1995',periods = 1200)"
   ]
  },
  {
   "cell_type": "code",
   "execution_count": 3,
   "metadata": {},
   "outputs": [
    {
     "data": {
      "text/plain": [
       "DatetimeIndex(['1995-02-15', '1995-02-16', '1995-02-17', '1995-02-18',\n",
       "               '1995-02-19', '1995-02-20', '1995-02-21', '1995-02-22',\n",
       "               '1995-02-23', '1995-02-24',\n",
       "               ...\n",
       "               '1998-05-20', '1998-05-21', '1998-05-22', '1998-05-23',\n",
       "               '1998-05-24', '1998-05-25', '1998-05-26', '1998-05-27',\n",
       "               '1998-05-28', '1998-05-29'],\n",
       "              dtype='datetime64[ns]', length=1200, freq='D')"
      ]
     },
     "execution_count": 3,
     "metadata": {},
     "output_type": "execute_result"
    }
   ],
   "source": [
    "index"
   ]
  },
  {
   "cell_type": "code",
   "execution_count": 4,
   "metadata": {},
   "outputs": [],
   "source": [
    "df = pd.Series(np.random.normal(0.8, 2, 1200),index)"
   ]
  },
  {
   "cell_type": "code",
   "execution_count": 5,
   "metadata": {},
   "outputs": [
    {
     "data": {
      "text/plain": [
       "1995-02-15    2.182131\n",
       "1995-02-16    1.621928\n",
       "1995-02-17    1.953709\n",
       "1995-02-18    1.015610\n",
       "1995-02-19    0.814168\n",
       "                ...   \n",
       "1998-05-25    1.873014\n",
       "1998-05-26    2.870761\n",
       "1998-05-27    2.340858\n",
       "1998-05-28    1.231831\n",
       "1998-05-29    3.444454\n",
       "Freq: D, Length: 1200, dtype: float64"
      ]
     },
     "execution_count": 5,
     "metadata": {},
     "output_type": "execute_result"
    }
   ],
   "source": [
    "df"
   ]
  },
  {
   "cell_type": "code",
   "execution_count": 6,
   "metadata": {},
   "outputs": [],
   "source": [
    "#Using groupby method to calculate the mean of each year\n",
    "grouped = df.groupby(lambda x: x.year)"
   ]
  },
  {
   "cell_type": "code",
   "execution_count": 7,
   "metadata": {},
   "outputs": [
    {
     "data": {
      "text/plain": [
       "1995    0.754887\n",
       "1996    0.736333\n",
       "1997    0.602987\n",
       "1998    0.858081\n",
       "dtype: float64"
      ]
     },
     "execution_count": 7,
     "metadata": {},
     "output_type": "execute_result"
    }
   ],
   "source": [
    "grouped.mean()"
   ]
  },
  {
   "cell_type": "code",
   "execution_count": 8,
   "metadata": {},
   "outputs": [],
   "source": [
    "df = pd.DataFrame(df)"
   ]
  },
  {
   "cell_type": "code",
   "execution_count": 9,
   "metadata": {},
   "outputs": [
    {
     "data": {
      "text/html": [
       "<div>\n",
       "<style scoped>\n",
       "    .dataframe tbody tr th:only-of-type {\n",
       "        vertical-align: middle;\n",
       "    }\n",
       "\n",
       "    .dataframe tbody tr th {\n",
       "        vertical-align: top;\n",
       "    }\n",
       "\n",
       "    .dataframe thead th {\n",
       "        text-align: right;\n",
       "    }\n",
       "</style>\n",
       "<table border=\"1\" class=\"dataframe\">\n",
       "  <thead>\n",
       "    <tr style=\"text-align: right;\">\n",
       "      <th></th>\n",
       "      <th>0</th>\n",
       "    </tr>\n",
       "  </thead>\n",
       "  <tbody>\n",
       "    <tr>\n",
       "      <th>1995-02-15</th>\n",
       "      <td>2.182131</td>\n",
       "    </tr>\n",
       "    <tr>\n",
       "      <th>1995-02-16</th>\n",
       "      <td>1.621928</td>\n",
       "    </tr>\n",
       "    <tr>\n",
       "      <th>1995-02-17</th>\n",
       "      <td>1.953709</td>\n",
       "    </tr>\n",
       "    <tr>\n",
       "      <th>1995-02-18</th>\n",
       "      <td>1.015610</td>\n",
       "    </tr>\n",
       "    <tr>\n",
       "      <th>1995-02-19</th>\n",
       "      <td>0.814168</td>\n",
       "    </tr>\n",
       "    <tr>\n",
       "      <th>...</th>\n",
       "      <td>...</td>\n",
       "    </tr>\n",
       "    <tr>\n",
       "      <th>1998-05-25</th>\n",
       "      <td>1.873014</td>\n",
       "    </tr>\n",
       "    <tr>\n",
       "      <th>1998-05-26</th>\n",
       "      <td>2.870761</td>\n",
       "    </tr>\n",
       "    <tr>\n",
       "      <th>1998-05-27</th>\n",
       "      <td>2.340858</td>\n",
       "    </tr>\n",
       "    <tr>\n",
       "      <th>1998-05-28</th>\n",
       "      <td>1.231831</td>\n",
       "    </tr>\n",
       "    <tr>\n",
       "      <th>1998-05-29</th>\n",
       "      <td>3.444454</td>\n",
       "    </tr>\n",
       "  </tbody>\n",
       "</table>\n",
       "<p>1200 rows × 1 columns</p>\n",
       "</div>"
      ],
      "text/plain": [
       "                   0\n",
       "1995-02-15  2.182131\n",
       "1995-02-16  1.621928\n",
       "1995-02-17  1.953709\n",
       "1995-02-18  1.015610\n",
       "1995-02-19  0.814168\n",
       "...              ...\n",
       "1998-05-25  1.873014\n",
       "1998-05-26  2.870761\n",
       "1998-05-27  2.340858\n",
       "1998-05-28  1.231831\n",
       "1998-05-29  3.444454\n",
       "\n",
       "[1200 rows x 1 columns]"
      ]
     },
     "execution_count": 9,
     "metadata": {},
     "output_type": "execute_result"
    }
   ],
   "source": [
    "df"
   ]
  },
  {
   "cell_type": "code",
   "execution_count": 10,
   "metadata": {},
   "outputs": [],
   "source": [
    "from statistics import mode"
   ]
  },
  {
   "cell_type": "code",
   "execution_count": 22,
   "metadata": {},
   "outputs": [
    {
     "ename": "SyntaxError",
     "evalue": "invalid syntax (<ipython-input-22-6ba78a58d426>, line 6)",
     "output_type": "error",
     "traceback": [
      "\u001b[1;36m  File \u001b[1;32m\"<ipython-input-22-6ba78a58d426>\"\u001b[1;36m, line \u001b[1;32m6\u001b[0m\n\u001b[1;33m    elif x == '1996':\u001b[0m\n\u001b[1;37m       ^\u001b[0m\n\u001b[1;31mSyntaxError\u001b[0m\u001b[1;31m:\u001b[0m invalid syntax\n"
     ]
    }
   ],
   "source": [
    "def mean_calc(df):\n",
    "    for x in df:\n",
    "        if x == '1995':\n",
    "            result = (sum(x)//mode(1995))\n",
    "        print (result)\n",
    "    elif x == '1996':\n",
    "        result = (sum(x)//mode(1996))\n",
    "    return (result)\n",
    "    elif x == '1997':\n",
    "        result = (sum(x)//mode(1997))\n",
    "    return (result)\n",
    "    else:\n",
    "        result = (sum(x)//mode(1998))\n",
    "    print (result)"
   ]
  },
  {
   "cell_type": "code",
   "execution_count": 12,
   "metadata": {},
   "outputs": [
    {
     "ename": "NameError",
     "evalue": "name 'x' is not defined",
     "output_type": "error",
     "traceback": [
      "\u001b[1;31m---------------------------------------------------------------------------\u001b[0m",
      "\u001b[1;31mNameError\u001b[0m                                 Traceback (most recent call last)",
      "\u001b[1;32m<ipython-input-12-a5a76064a653>\u001b[0m in \u001b[0;36m<module>\u001b[1;34m\u001b[0m\n\u001b[1;32m----> 1\u001b[1;33m \u001b[0mprint\u001b[0m \u001b[1;33m(\u001b[0m\u001b[0mmean_calc\u001b[0m\u001b[1;33m(\u001b[0m\u001b[0mdf\u001b[0m\u001b[1;33m)\u001b[0m\u001b[1;33m)\u001b[0m\u001b[1;33m\u001b[0m\u001b[1;33m\u001b[0m\u001b[0m\n\u001b[0m",
      "\u001b[1;32m<ipython-input-11-5aeb55f0efb2>\u001b[0m in \u001b[0;36mmean_calc\u001b[1;34m(df)\u001b[0m\n\u001b[0;32m      1\u001b[0m \u001b[1;32mdef\u001b[0m \u001b[0mmean_calc\u001b[0m\u001b[1;33m(\u001b[0m\u001b[0mdf\u001b[0m\u001b[1;33m)\u001b[0m\u001b[1;33m:\u001b[0m\u001b[1;33m\u001b[0m\u001b[1;33m\u001b[0m\u001b[0m\n\u001b[1;32m----> 2\u001b[1;33m     \u001b[1;32mif\u001b[0m \u001b[0mx\u001b[0m \u001b[1;32min\u001b[0m \u001b[0mdf\u001b[0m \u001b[1;33m==\u001b[0m \u001b[1;34m'1995'\u001b[0m\u001b[1;33m:\u001b[0m\u001b[1;33m\u001b[0m\u001b[1;33m\u001b[0m\u001b[0m\n\u001b[0m\u001b[0;32m      3\u001b[0m         \u001b[0mresult\u001b[0m \u001b[1;33m=\u001b[0m \u001b[1;33m(\u001b[0m\u001b[0msum\u001b[0m\u001b[1;33m(\u001b[0m\u001b[0mx\u001b[0m\u001b[1;33m)\u001b[0m\u001b[1;33m//\u001b[0m\u001b[0mmode\u001b[0m\u001b[1;33m(\u001b[0m\u001b[1;36m1995\u001b[0m\u001b[1;33m)\u001b[0m\u001b[1;33m)\u001b[0m\u001b[1;33m\u001b[0m\u001b[1;33m\u001b[0m\u001b[0m\n\u001b[0;32m      4\u001b[0m         \u001b[0mprint\u001b[0m \u001b[1;33m(\u001b[0m\u001b[0mresult\u001b[0m\u001b[1;33m)\u001b[0m\u001b[1;33m\u001b[0m\u001b[1;33m\u001b[0m\u001b[0m\n\u001b[0;32m      5\u001b[0m     \u001b[1;32melif\u001b[0m \u001b[0mx\u001b[0m \u001b[1;33m==\u001b[0m \u001b[1;34m'1996'\u001b[0m\u001b[1;33m:\u001b[0m\u001b[1;33m\u001b[0m\u001b[1;33m\u001b[0m\u001b[0m\n",
      "\u001b[1;31mNameError\u001b[0m: name 'x' is not defined"
     ]
    }
   ],
   "source": [
    "print (mean_calc(df))"
   ]
  },
  {
   "cell_type": "code",
   "execution_count": 11,
   "metadata": {},
   "outputs": [],
   "source": [
    "headers = [\"DATE\", \"VALUE\"]"
   ]
  },
  {
   "cell_type": "code",
   "execution_count": 12,
   "metadata": {},
   "outputs": [
    {
     "ename": "SyntaxError",
     "evalue": "invalid syntax (<ipython-input-12-a6ccbecc1fe6>, line 1)",
     "output_type": "error",
     "traceback": [
      "\u001b[1;36m  File \u001b[1;32m\"<ipython-input-12-a6ccbecc1fe6>\"\u001b[1;36m, line \u001b[1;32m1\u001b[0m\n\u001b[1;33m    df = (df, names = headers)\u001b[0m\n\u001b[1;37m                    ^\u001b[0m\n\u001b[1;31mSyntaxError\u001b[0m\u001b[1;31m:\u001b[0m invalid syntax\n"
     ]
    }
   ],
   "source": [
    "df = (df, names = headers)"
   ]
  },
  {
   "cell_type": "code",
   "execution_count": 13,
   "metadata": {},
   "outputs": [
    {
     "data": {
      "text/html": [
       "<div>\n",
       "<style scoped>\n",
       "    .dataframe tbody tr th:only-of-type {\n",
       "        vertical-align: middle;\n",
       "    }\n",
       "\n",
       "    .dataframe tbody tr th {\n",
       "        vertical-align: top;\n",
       "    }\n",
       "\n",
       "    .dataframe thead th {\n",
       "        text-align: right;\n",
       "    }\n",
       "</style>\n",
       "<table border=\"1\" class=\"dataframe\">\n",
       "  <thead>\n",
       "    <tr style=\"text-align: right;\">\n",
       "      <th></th>\n",
       "      <th>0</th>\n",
       "    </tr>\n",
       "  </thead>\n",
       "  <tbody>\n",
       "    <tr>\n",
       "      <th>1995-02-15</th>\n",
       "      <td>-0.839003</td>\n",
       "    </tr>\n",
       "    <tr>\n",
       "      <th>1995-02-16</th>\n",
       "      <td>1.472637</td>\n",
       "    </tr>\n",
       "    <tr>\n",
       "      <th>1995-02-17</th>\n",
       "      <td>-1.905848</td>\n",
       "    </tr>\n",
       "    <tr>\n",
       "      <th>1995-02-18</th>\n",
       "      <td>-1.267898</td>\n",
       "    </tr>\n",
       "    <tr>\n",
       "      <th>1995-02-19</th>\n",
       "      <td>1.887026</td>\n",
       "    </tr>\n",
       "    <tr>\n",
       "      <th>...</th>\n",
       "      <td>...</td>\n",
       "    </tr>\n",
       "    <tr>\n",
       "      <th>1998-05-25</th>\n",
       "      <td>-1.308830</td>\n",
       "    </tr>\n",
       "    <tr>\n",
       "      <th>1998-05-26</th>\n",
       "      <td>0.152099</td>\n",
       "    </tr>\n",
       "    <tr>\n",
       "      <th>1998-05-27</th>\n",
       "      <td>-0.601249</td>\n",
       "    </tr>\n",
       "    <tr>\n",
       "      <th>1998-05-28</th>\n",
       "      <td>0.295293</td>\n",
       "    </tr>\n",
       "    <tr>\n",
       "      <th>1998-05-29</th>\n",
       "      <td>-0.527776</td>\n",
       "    </tr>\n",
       "  </tbody>\n",
       "</table>\n",
       "<p>1200 rows × 1 columns</p>\n",
       "</div>"
      ],
      "text/plain": [
       "                   0\n",
       "1995-02-15 -0.839003\n",
       "1995-02-16  1.472637\n",
       "1995-02-17 -1.905848\n",
       "1995-02-18 -1.267898\n",
       "1995-02-19  1.887026\n",
       "...              ...\n",
       "1998-05-25 -1.308830\n",
       "1998-05-26  0.152099\n",
       "1998-05-27 -0.601249\n",
       "1998-05-28  0.295293\n",
       "1998-05-29 -0.527776\n",
       "\n",
       "[1200 rows x 1 columns]"
      ]
     },
     "execution_count": 13,
     "metadata": {},
     "output_type": "execute_result"
    }
   ],
   "source": [
    "df"
   ]
  },
  {
   "cell_type": "code",
   "execution_count": null,
   "metadata": {},
   "outputs": [],
   "source": []
  }
 ],
 "metadata": {
  "kernelspec": {
   "display_name": "Python 3",
   "language": "python",
   "name": "python3"
  },
  "language_info": {
   "codemirror_mode": {
    "name": "ipython",
    "version": 3
   },
   "file_extension": ".py",
   "mimetype": "text/x-python",
   "name": "python",
   "nbconvert_exporter": "python",
   "pygments_lexer": "ipython3",
   "version": "3.7.6"
  }
 },
 "nbformat": 4,
 "nbformat_minor": 4
}
