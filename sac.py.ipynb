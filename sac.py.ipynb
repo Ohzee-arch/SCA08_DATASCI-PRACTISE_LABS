{
 "cells": [
  {
   "cell_type": "code",
   "execution_count": 1,
   "metadata": {},
   "outputs": [],
   "source": [
    "import pandas as pd\n",
    "import numpy as np"
   ]
  },
  {
   "cell_type": "code",
   "execution_count": 2,
   "metadata": {},
   "outputs": [],
   "source": [
    "#Creatng a dataframe of years and random different years\n",
    "index = pd.date_range('15/2/1995',periods = 1200)"
   ]
  },
  {
   "cell_type": "code",
   "execution_count": 3,
   "metadata": {},
   "outputs": [
    {
     "data": {
      "text/plain": [
       "DatetimeIndex(['1995-02-15', '1995-02-16', '1995-02-17', '1995-02-18',\n",
       "               '1995-02-19', '1995-02-20', '1995-02-21', '1995-02-22',\n",
       "               '1995-02-23', '1995-02-24',\n",
       "               ...\n",
       "               '1998-05-20', '1998-05-21', '1998-05-22', '1998-05-23',\n",
       "               '1998-05-24', '1998-05-25', '1998-05-26', '1998-05-27',\n",
       "               '1998-05-28', '1998-05-29'],\n",
       "              dtype='datetime64[ns]', length=1200, freq='D')"
      ]
     },
     "execution_count": 3,
     "metadata": {},
     "output_type": "execute_result"
    }
   ],
   "source": [
    "index"
   ]
  },
  {
   "cell_type": "code",
   "execution_count": 4,
   "metadata": {},
   "outputs": [],
   "source": [
    "df = pd.Series(np.random.normal(0.8, 2, 1200),index)"
   ]
  },
  {
   "cell_type": "code",
   "execution_count": 5,
   "metadata": {},
   "outputs": [
    {
     "data": {
      "text/plain": [
       "1995-02-15   -0.345416\n",
       "1995-02-16    3.231071\n",
       "1995-02-17    2.536816\n",
       "1995-02-18    3.192447\n",
       "1995-02-19    1.798339\n",
       "                ...   \n",
       "1998-05-25   -0.039130\n",
       "1998-05-26    0.015036\n",
       "1998-05-27   -0.302116\n",
       "1998-05-28    2.640398\n",
       "1998-05-29   -0.223165\n",
       "Freq: D, Length: 1200, dtype: float64"
      ]
     },
     "execution_count": 5,
     "metadata": {},
     "output_type": "execute_result"
    }
   ],
   "source": [
    "df"
   ]
  },
  {
   "cell_type": "code",
   "execution_count": 6,
   "metadata": {},
   "outputs": [],
   "source": [
    "#Using groupby method to calculate the mean of each year\n",
    "grouped = df.groupby(lambda x: x.year)"
   ]
  },
  {
   "cell_type": "code",
   "execution_count": 7,
   "metadata": {},
   "outputs": [
    {
     "data": {
      "text/plain": [
       "1995    0.685078\n",
       "1996    0.945719\n",
       "1997    0.966112\n",
       "1998    1.074645\n",
       "dtype: float64"
      ]
     },
     "execution_count": 7,
     "metadata": {},
     "output_type": "execute_result"
    }
   ],
   "source": [
    "grouped.mean()"
   ]
  },
  {
   "cell_type": "code",
   "execution_count": 8,
   "metadata": {},
   "outputs": [],
   "source": [
    "df = pd.DataFrame(df)"
   ]
  },
  {
   "cell_type": "code",
   "execution_count": 9,
   "metadata": {},
   "outputs": [
    {
     "data": {
      "text/html": [
       "<div>\n",
       "<style scoped>\n",
       "    .dataframe tbody tr th:only-of-type {\n",
       "        vertical-align: middle;\n",
       "    }\n",
       "\n",
       "    .dataframe tbody tr th {\n",
       "        vertical-align: top;\n",
       "    }\n",
       "\n",
       "    .dataframe thead th {\n",
       "        text-align: right;\n",
       "    }\n",
       "</style>\n",
       "<table border=\"1\" class=\"dataframe\">\n",
       "  <thead>\n",
       "    <tr style=\"text-align: right;\">\n",
       "      <th></th>\n",
       "      <th>0</th>\n",
       "    </tr>\n",
       "  </thead>\n",
       "  <tbody>\n",
       "    <tr>\n",
       "      <th>1995-02-15</th>\n",
       "      <td>-0.345416</td>\n",
       "    </tr>\n",
       "    <tr>\n",
       "      <th>1995-02-16</th>\n",
       "      <td>3.231071</td>\n",
       "    </tr>\n",
       "    <tr>\n",
       "      <th>1995-02-17</th>\n",
       "      <td>2.536816</td>\n",
       "    </tr>\n",
       "    <tr>\n",
       "      <th>1995-02-18</th>\n",
       "      <td>3.192447</td>\n",
       "    </tr>\n",
       "    <tr>\n",
       "      <th>1995-02-19</th>\n",
       "      <td>1.798339</td>\n",
       "    </tr>\n",
       "    <tr>\n",
       "      <th>...</th>\n",
       "      <td>...</td>\n",
       "    </tr>\n",
       "    <tr>\n",
       "      <th>1998-05-25</th>\n",
       "      <td>-0.039130</td>\n",
       "    </tr>\n",
       "    <tr>\n",
       "      <th>1998-05-26</th>\n",
       "      <td>0.015036</td>\n",
       "    </tr>\n",
       "    <tr>\n",
       "      <th>1998-05-27</th>\n",
       "      <td>-0.302116</td>\n",
       "    </tr>\n",
       "    <tr>\n",
       "      <th>1998-05-28</th>\n",
       "      <td>2.640398</td>\n",
       "    </tr>\n",
       "    <tr>\n",
       "      <th>1998-05-29</th>\n",
       "      <td>-0.223165</td>\n",
       "    </tr>\n",
       "  </tbody>\n",
       "</table>\n",
       "<p>1200 rows × 1 columns</p>\n",
       "</div>"
      ],
      "text/plain": [
       "                   0\n",
       "1995-02-15 -0.345416\n",
       "1995-02-16  3.231071\n",
       "1995-02-17  2.536816\n",
       "1995-02-18  3.192447\n",
       "1995-02-19  1.798339\n",
       "...              ...\n",
       "1998-05-25 -0.039130\n",
       "1998-05-26  0.015036\n",
       "1998-05-27 -0.302116\n",
       "1998-05-28  2.640398\n",
       "1998-05-29 -0.223165\n",
       "\n",
       "[1200 rows x 1 columns]"
      ]
     },
     "execution_count": 9,
     "metadata": {},
     "output_type": "execute_result"
    }
   ],
   "source": [
    "df"
   ]
  },
  {
   "cell_type": "code",
   "execution_count": 10,
   "metadata": {},
   "outputs": [],
   "source": [
    "from statistics import mode"
   ]
  },
  {
   "cell_type": "code",
   "execution_count": 11,
   "metadata": {},
   "outputs": [],
   "source": [
    "def mean_calc(df):\n",
    "    for x in df:\n",
    "        if x == '1995':\n",
    "            result = (sum(x)//mode(1995))\n",
    "            print (result)\n",
    "        elif x =='1996':\n",
    "            result = (sum(x)//mode(1996))\n",
    "            return (result)\n",
    "        elif x == '1997':\n",
    "            result = (sum(x)//mode(1997))\n",
    "            return (result)\n",
    "        else:\n",
    "            result = (sum(x)//mode(1998))\n",
    "            return (result)"
   ]
  },
  {
   "cell_type": "code",
   "execution_count": 20,
   "metadata": {},
   "outputs": [],
   "source": [
    "df.to_csv(\"datetime1.csv\")"
   ]
  },
  {
   "cell_type": "code",
   "execution_count": 27,
   "metadata": {},
   "outputs": [],
   "source": [
    "headers = ['DATE', 'VALUES']"
   ]
  },
  {
   "cell_type": "code",
   "execution_count": 28,
   "metadata": {},
   "outputs": [],
   "source": [
    "datetime = pd.read_csv(\"datetime1.csv\", names = headers)"
   ]
  },
  {
   "cell_type": "code",
   "execution_count": 32,
   "metadata": {},
   "outputs": [],
   "source": [
    "datetime.drop(datetime.index[0],inplace=True)"
   ]
  },
  {
   "cell_type": "code",
   "execution_count": 33,
   "metadata": {},
   "outputs": [
    {
     "data": {
      "text/html": [
       "<div>\n",
       "<style scoped>\n",
       "    .dataframe tbody tr th:only-of-type {\n",
       "        vertical-align: middle;\n",
       "    }\n",
       "\n",
       "    .dataframe tbody tr th {\n",
       "        vertical-align: top;\n",
       "    }\n",
       "\n",
       "    .dataframe thead th {\n",
       "        text-align: right;\n",
       "    }\n",
       "</style>\n",
       "<table border=\"1\" class=\"dataframe\">\n",
       "  <thead>\n",
       "    <tr style=\"text-align: right;\">\n",
       "      <th></th>\n",
       "      <th>DATE</th>\n",
       "      <th>VALUES</th>\n",
       "    </tr>\n",
       "  </thead>\n",
       "  <tbody>\n",
       "    <tr>\n",
       "      <th>1</th>\n",
       "      <td>1995-02-15</td>\n",
       "      <td>-0.345416</td>\n",
       "    </tr>\n",
       "    <tr>\n",
       "      <th>2</th>\n",
       "      <td>1995-02-16</td>\n",
       "      <td>3.231071</td>\n",
       "    </tr>\n",
       "    <tr>\n",
       "      <th>3</th>\n",
       "      <td>1995-02-17</td>\n",
       "      <td>2.536816</td>\n",
       "    </tr>\n",
       "    <tr>\n",
       "      <th>4</th>\n",
       "      <td>1995-02-18</td>\n",
       "      <td>3.192447</td>\n",
       "    </tr>\n",
       "    <tr>\n",
       "      <th>5</th>\n",
       "      <td>1995-02-19</td>\n",
       "      <td>1.798339</td>\n",
       "    </tr>\n",
       "    <tr>\n",
       "      <th>...</th>\n",
       "      <td>...</td>\n",
       "      <td>...</td>\n",
       "    </tr>\n",
       "    <tr>\n",
       "      <th>1196</th>\n",
       "      <td>1998-05-25</td>\n",
       "      <td>-0.039130</td>\n",
       "    </tr>\n",
       "    <tr>\n",
       "      <th>1197</th>\n",
       "      <td>1998-05-26</td>\n",
       "      <td>0.015036</td>\n",
       "    </tr>\n",
       "    <tr>\n",
       "      <th>1198</th>\n",
       "      <td>1998-05-27</td>\n",
       "      <td>-0.302116</td>\n",
       "    </tr>\n",
       "    <tr>\n",
       "      <th>1199</th>\n",
       "      <td>1998-05-28</td>\n",
       "      <td>2.640398</td>\n",
       "    </tr>\n",
       "    <tr>\n",
       "      <th>1200</th>\n",
       "      <td>1998-05-29</td>\n",
       "      <td>-0.223165</td>\n",
       "    </tr>\n",
       "  </tbody>\n",
       "</table>\n",
       "<p>1200 rows × 2 columns</p>\n",
       "</div>"
      ],
      "text/plain": [
       "            DATE    VALUES\n",
       "1     1995-02-15 -0.345416\n",
       "2     1995-02-16  3.231071\n",
       "3     1995-02-17  2.536816\n",
       "4     1995-02-18  3.192447\n",
       "5     1995-02-19  1.798339\n",
       "...          ...       ...\n",
       "1196  1998-05-25 -0.039130\n",
       "1197  1998-05-26  0.015036\n",
       "1198  1998-05-27 -0.302116\n",
       "1199  1998-05-28  2.640398\n",
       "1200  1998-05-29 -0.223165\n",
       "\n",
       "[1200 rows x 2 columns]"
      ]
     },
     "execution_count": 33,
     "metadata": {},
     "output_type": "execute_result"
    }
   ],
   "source": [
    "datetime"
   ]
  },
  {
   "cell_type": "code",
   "execution_count": 34,
   "metadata": {},
   "outputs": [],
   "source": [
    "def mean_calc(df):\n",
    "    for x in df:\n",
    "        if x == '1995':\n",
    "            result = (sum(x)//mode(1995))\n",
    "            print (result)\n",
    "        elif x =='1996':\n",
    "            result = (sum(x)//mode(1996))\n",
    "            return (result)\n",
    "        elif x == '1997':\n",
    "            result = (sum(x)//mode(1997))\n",
    "            return (result)\n",
    "        else:\n",
    "            result = (sum(x))\n",
    "            return (result)"
   ]
  },
  {
   "cell_type": "code",
   "execution_count": 37,
   "metadata": {},
   "outputs": [],
   "source": [
    "for x in datetime:\n",
    "    if x == '1995':\n",
    "        result = (sum(x)//mode(1995))\n",
    "        print(result)"
   ]
  },
  {
   "cell_type": "code",
   "execution_count": 38,
   "metadata": {},
   "outputs": [
    {
     "ename": "NameError",
     "evalue": "name 'result' is not defined",
     "output_type": "error",
     "traceback": [
      "\u001b[1;31m---------------------------------------------------------------------------\u001b[0m",
      "\u001b[1;31mNameError\u001b[0m                                 Traceback (most recent call last)",
      "\u001b[1;32m<ipython-input-38-0ac921c19f1a>\u001b[0m in \u001b[0;36m<module>\u001b[1;34m\u001b[0m\n\u001b[1;32m----> 1\u001b[1;33m \u001b[0mresult\u001b[0m\u001b[1;33m\u001b[0m\u001b[1;33m\u001b[0m\u001b[0m\n\u001b[0m",
      "\u001b[1;31mNameError\u001b[0m: name 'result' is not defined"
     ]
    }
   ],
   "source": [
    "result"
   ]
  },
  {
   "cell_type": "code",
   "execution_count": null,
   "metadata": {},
   "outputs": [],
   "source": []
  }
 ],
 "metadata": {
  "kernelspec": {
   "display_name": "Python 3",
   "language": "python",
   "name": "python3"
  },
  "language_info": {
   "codemirror_mode": {
    "name": "ipython",
    "version": 3
   },
   "file_extension": ".py",
   "mimetype": "text/x-python",
   "name": "python",
   "nbconvert_exporter": "python",
   "pygments_lexer": "ipython3",
   "version": "3.7.6"
  }
 },
 "nbformat": 4,
 "nbformat_minor": 4
}
